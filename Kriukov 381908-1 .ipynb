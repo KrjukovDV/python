{
 "cells": [
  {
   "cell_type": "markdown",
   "metadata": {},
   "source": [
    "## 29. Нелинейный метод наименьших квадратов\n",
    "\n",
    "[Ratkowsky D. A. Nonlinear Regression Modeling. 1983]\n",
    "\n",
    "Нелинейным методом наименьших квадратов\n",
    "построить модели вида\n",
    "$$\n",
    "y = \\frac{\\beta_1}{1 + \\beta_2 e^{-\\beta_3 t}},\n",
    "\\qquad\n",
    "\\mbox{и}\n",
    "\\qquad\n",
    "y = \\frac{\\beta_1}{(1 + \\beta_2 e^{-\\beta_3 t})^{1/\\beta_4}},\n",
    "$$\n",
    "для данных, приведенных в таблице\n",
    "```\n",
    "    t         y    \n",
    "  ----------------   \n",
    "    1       16.08    \n",
    "    2       33.83  \n",
    "    3       65.80  \n",
    "    4       97.20  \n",
    "    5      191.55  \n",
    "    6      326.20  \n",
    "    7      386.87  \n",
    "    8      520.53  \n",
    "    9      590.03  \n",
    "   10      651.92  \n",
    "   11      724.93  \n",
    "   12      699.56  \n",
    "   13      689.96  \n",
    "   14      637.56  \n",
    "   15      717.41             \n",
    "```\n",
    "Предиктор $t$ – время, \n",
    "переменная отклика $y$ – вес сухой луковицы вместе с надземной частью растения.\n",
    "Найти общую ошибку в каждом из этих случаев и сравнить результаты."
   ]
  },
  {
   "cell_type": "code",
   "execution_count": 128,
   "metadata": {},
   "outputs": [],
   "source": [
    "import numpy as np\n",
    "import math as m\n",
    "import matplotlib.pyplot as plt\n",
    "from scipy.optimize import curve_fit "
   ]
  },
  {
   "cell_type": "code",
   "execution_count": 129,
   "metadata": {},
   "outputs": [],
   "source": [
    "#Исходные данные\n",
    "t = np.arange(1, 16, 1)\n",
    "y = np.array([16.08,33.83,65.80,97.20,191.55,326.20,386.87,520.53,590.03,651.92,724.93,699.56,689.96,637.56,717.41])"
   ]
  },
  {
   "cell_type": "markdown",
   "metadata": {},
   "source": [
    "Метод наименьших квадратов (МНК).  \n",
    "Пусть имеются точки\n",
    "$$ (𝑥1,𝑦1),(𝑥2,𝑦2),…,(𝑥𝑚,𝑦𝑚). $$\n",
    " \n",
    "Ищем линейную функцию\n",
    "$$ 𝑦=𝛽0+𝛽1𝑥, $$\n",
    " \n",
    "такую, что\n",
    "$$ 𝑦𝑖≈𝛽0+𝛽1𝑥𝑖(𝑖=1,2,…,𝑚). $$\n",
    " \n",
    "А именно, ищем  𝛽0 ,  𝛽1 , на которых достигается минимум суммы квадратов невязок (остаточной суммы квадратов)\n",
    "$$  𝑅(𝛽0,𝛽1)=∑𝑖=1𝑚(𝑦𝑖−𝛽0−𝛽1𝑥𝑖)2→min𝛽0,𝛽1(*) $$\n",
    "𝑅(𝛽0,𝛽1)  - это сумма квадратов отклонений предсказанных значений  𝛽0+𝛽1𝑥𝑖  от истинных  𝑦𝑖 .\n",
    "\n",
    "Для построения модели с помощью метода наименьших квадратов используем функцию curve_fit, которая использует нелинейный метод наименьших квадратов для максимального совпадения построенной функции с исходными данными.\n",
    "\n",
    "Построим модель вида $ y = \\frac{\\beta_1}{1 + \\beta_2 e^{-\\beta_3 t}} $, применив МНК.  "
   ]
  },
  {
   "cell_type": "code",
   "execution_count": 130,
   "metadata": {},
   "outputs": [
    {
     "name": "stdout",
     "output_type": "stream",
     "text": [
      "[β1 β2 β3] = [7.02871478e+02 8.49924183e+01 6.88565587e-01]\n"
     ]
    },
    {
     "data": {
      "image/png": "[encoded data removed]",
      "text/plain": [
       "<Figure size 432x288 with 1 Axes>"
      ]
     },
     "metadata": {
      "needs_background": "light"
     },
     "output_type": "display_data"
    }
   ],
   "source": [
    "p0 = [700,85,0.7]\n",
    "def fun1(t,b1,b2,b3):\n",
    "    return b1 / (1 + b2*np.exp(-1*b3*t))\n",
    "y1 = np.empty (15,  dtype=np.float)\n",
    "b, _ = curve_fit(fun1, t, y, p0)\n",
    "print(\"[β1 β2 β3] =\", b)\n",
    "for i in range(0, 15):\n",
    "    y1[i] = fun1(t[i], b[0], b[1], b[2])\n",
    "plt.plot(t, y1, label='MNK')\n",
    "plt.plot(t, y, \"ko\",  label='Data')\n",
    "plt.legend()\n",
    "pass"
   ]
  },
  {
   "cell_type": "markdown",
   "metadata": {},
   "source": [
    "Построим модель вида  $y = \\frac{\\beta_1}{(1 + \\beta_2 e^{-\\beta_3 t})^{1/\\beta_4}}$ , применив МНК."
   ]
  },
  {
   "cell_type": "code",
   "execution_count": 131,
   "metadata": {},
   "outputs": [
    {
     "name": "stdout",
     "output_type": "stream",
     "text": [
      "[β1 β2 β3] = [699.64135945 195.79500488   0.75962554   1.27922586]\n"
     ]
    },
    {
     "data": {
      "image/png": "[encoded data removed]",
      "text/plain": [
       "<Figure size 432x288 with 1 Axes>"
      ]
     },
     "metadata": {
      "needs_background": "light"
     },
     "output_type": "display_data"
    }
   ],
   "source": [
    "p0 = [700,200,0.7,1.3]\n",
    "def fun2(t,b1,b2,b3,b4):\n",
    "    return b1 / ((b2*np.exp(-1*b3*t) + 1)**(1/b4))\n",
    "y2 = np.empty (15,  dtype=np.float)\n",
    "b, _ = curve_fit(fun2, t, y, p0)\n",
    "print(\"[β1 β2 β3] =\", b)\n",
    "for i in range(0, 15):\n",
    "    #y2[i] = fun2(t[i], 700, 70, 0.01, 0.01)\n",
    "    y2[i] = fun2(t[i], b[0], b[1], b[2], b[3])\n",
    "plt.plot(t, y2,  label='MNK Prediction')\n",
    "plt.plot(t, y, \"ko\",  label='Original Data')\n",
    "plt.legend()\n",
    "pass"
   ]
  },
  {
   "cell_type": "markdown",
   "metadata": {},
   "source": [
    "Общую ошибку обеих моделей вычислим по данной формуле: $\\frac{\\sum_{i=1}^n (y_i - f_i(x))^2}{n} $"
   ]
  },
  {
   "cell_type": "code",
   "execution_count": 132,
   "metadata": {},
   "outputs": [
    {
     "name": "stdout",
     "output_type": "stream",
     "text": [
      "Ошибка модели 1 =  595.3255315004633\n",
      "Ошибка модели 2 =  585.760327350927\n"
     ]
    }
   ],
   "source": [
    "er1 = np.array (y - y1)\n",
    "for i in range (0,15):\n",
    "    er1[i] = er1[i]**2\n",
    "error1 = sum(er1)/15\n",
    "er2 = np.array (y - y2)\n",
    "for i in range (0,15):\n",
    "    er2[i] = er2[i]**2\n",
    "error2 = sum(er2)/15\n",
    "print(\"Ошибка модели 1 = \", error1)\n",
    "print(\"Ошибка модели 2 = \", error2)"
   ]
  },
  {
   "cell_type": "markdown",
   "metadata": {},
   "source": [
    "Вывод:\n",
    "Вторая модель оказалась немного точнее первой. Очевидно, что точность решения напрямую зависит от количества переменных, по которым составляется уравнение."
   ]
  }
 ],
 "metadata": {
  "kernelspec": {
   "display_name": "Python 3",
   "language": "python",
   "name": "python3"
  },
  "language_info": {
   "codemirror_mode": {
    "name": "ipython",
    "version": 3
   },
   "file_extension": ".py",
   "mimetype": "text/x-python",
   "name": "python",
   "nbconvert_exporter": "python",
   "pygments_lexer": "ipython3",
   "version": "3.7.4"
  }
 },
 "nbformat": 4,
 "nbformat_minor": 2
}
